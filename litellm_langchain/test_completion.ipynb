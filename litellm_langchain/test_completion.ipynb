{
 "cells": [
  {
   "cell_type": "markdown",
   "metadata": {},
   "source": [
    "# LiteLLM Proxy Completion Test\n",
    "\n",
    "This notebook demonstrates how to run completions against the LiteLLM proxy."
   ]
  },
  {
   "cell_type": "code",
   "execution_count": 1,
   "metadata": {},
   "outputs": [],
   "source": [
    "# Import required libraries\n",
    "import os\n",
    "from get_completion_example import get_completion, get_completion_json, get_completion_string"
   ]
  },
  {
   "cell_type": "markdown",
   "metadata": {},
   "source": [
    "## Test 1: Structured Output with Pydantic Object"
   ]
  },
  {
   "cell_type": "code",
   "execution_count": 2,
   "metadata": {},
   "outputs": [
    {
     "name": "stdout",
     "output_type": "stream",
     "text": [
      "Answer: The capital of France is Paris.\n",
      "Reasoning: Paris is the largest city in France and has been its capital since the 10th century, serving as the political, cultural, and economic center of the country.\n"
     ]
    }
   ],
   "source": [
    "# Get structured response with Pydantic validation (using default model)\n",
    "response = get_completion(\"What is the capital of France?\")\n",
    "print(f\"Answer: {response.answer}\")\n",
    "print(f\"Reasoning: {response.reasoning}\")\n",
    "\n",
    "# You can also specify a different model\n",
    "# response = get_completion(\"What is the capital of France?\", model=\"claude-sonnet-4-20250514\")"
   ]
  },
  {
   "cell_type": "markdown",
   "metadata": {},
   "source": [
    "## Test 2: Structured Output as JSON Dictionary"
   ]
  },
  {
   "cell_type": "code",
   "execution_count": 3,
   "metadata": {},
   "outputs": [
    {
     "name": "stdout",
     "output_type": "stream",
     "text": [
      "JSON Response:\n",
      "Answer: Photosynthesis is the process by which green plants use sunlight to make their own food. They take in sunlight, water, and carbon dioxide, and turn them into glucose (a type of sugar) and oxygen. This process helps plants grow and provides oxygen for other living things.\n",
      "\n",
      "Reasoning: Photosynthesis involves plants capturing sunlight energy to convert water and carbon dioxide into glucose and oxygen. Explaining it as a process where plants make their own food using sunlight simplifies the concept for better understanding.\n"
     ]
    }
   ],
   "source": [
    "# Get response as dictionary\n",
    "response_dict = get_completion_json(\"Explain photosynthesis in simple terms\")\n",
    "print(\"JSON Response:\")\n",
    "print(f\"Answer: {response_dict['answer']}\")\n",
    "print(f\"\\nReasoning: {response_dict['reasoning']}\")"
   ]
  },
  {
   "cell_type": "markdown",
   "metadata": {},
   "source": [
    "## Test 3: Plain String Output"
   ]
  },
  {
   "cell_type": "code",
   "execution_count": 4,
   "metadata": {},
   "outputs": [
    {
     "name": "stdout",
     "output_type": "stream",
     "text": [
      "String Response:\n",
      "Silent lines of code,  \n",
      "Logic weaves a digital dream,  \n",
      "Bugs fade in the night.\n"
     ]
    }
   ],
   "source": [
    "# Get response as plain string\n",
    "response_string = get_completion_string(\"Write a haiku about programming\")\n",
    "print(\"String Response:\")\n",
    "print(response_string)"
   ]
  },
  {
   "cell_type": "markdown",
   "metadata": {},
   "source": [
    "## Test 4: Multiple Completions"
   ]
  },
  {
   "cell_type": "code",
   "execution_count": 6,
   "metadata": {},
   "outputs": [
    {
     "name": "stdout",
     "output_type": "stream",
     "text": [
      "Q: What is 2 + 2?\n",
      "A: 2 + 2 equals 4.\n",
      "--------------------------------------------------\n",
      "Q: Who invented the telephone?\n",
      "A: Alexander Graham Bell is credited with inventing the telephone.\n",
      "--------------------------------------------------\n",
      "Q: What is the largest planet in our solar system?\n",
      "A: The largest planet in our solar system is Jupiter.\n",
      "--------------------------------------------------\n"
     ]
    }
   ],
   "source": [
    "# Run multiple completions\n",
    "questions = [\n",
    "    \"What is 2 + 2?\",\n",
    "    \"Who invented the telephone?\",\n",
    "    \"What is the largest planet in our solar system?\"\n",
    "]\n",
    "\n",
    "for question in questions:\n",
    "    response = get_completion(question)\n",
    "    print(f\"Q: {question}\")\n",
    "    print(f\"A: {response.answer}\")\n",
    "    print(\"-\" * 50)"
   ]
  },
  {
   "cell_type": "markdown",
   "metadata": {},
   "source": [
    "## Test 5: Error Handling"
   ]
  },
  {
   "cell_type": "code",
   "execution_count": 7,
   "metadata": {},
   "outputs": [
    {
     "name": "stdout",
     "output_type": "stream",
     "text": [
      "✅ Proxy is running and responding\n",
      "Response: Could you please provide more details or specify the test question you'd like assistance with?\n"
     ]
    }
   ],
   "source": [
    "# Test error handling\n",
    "try:\n",
    "    # This should work if the proxy is running\n",
    "    response = get_completion(\"Test question\")\n",
    "    print(\"✅ Proxy is running and responding\")\n",
    "    print(f\"Response: {response.answer}\")\n",
    "except Exception as e:\n",
    "    print(f\"❌ Error connecting to proxy: {e}\")\n",
    "    print(\"Make sure the LiteLLM proxy is running with: docker-compose up\")"
   ]
  },
  {
   "cell_type": "markdown",
   "metadata": {},
   "source": [
    "## Test 6: Using Different Model Providers"
   ]
  },
  {
   "cell_type": "markdown",
   "metadata": {},
   "source": [
    "### Using Claude (Anthropic)"
   ]
  },
  {
   "cell_type": "code",
   "execution_count": 8,
   "metadata": {},
   "outputs": [
    {
     "name": "stdout",
     "output_type": "stream",
     "text": [
      "Claude's Answer: The key differences between Python and JavaScript include:\n",
      "\n",
      "1. **Syntax and Structure**: Python uses indentation to define code blocks, while JavaScript uses curly braces {}. Python's syntax is generally more readable and beginner-friendly.\n",
      "\n",
      "2. **Typing System**: Python is dynamically typed but supports type hints, while JavaScript is also dynamically typed but with more flexible type coercion.\n",
      "\n",
      "3. **Execution Environment**: Python runs on servers, desktops, and various platforms via interpreters, while JavaScript traditionally runs in web browsers (though Node.js enables server-side execution).\n",
      "\n",
      "4. **Primary Use Cases**: Python excels in data science, machine learning, web backends, automation, and scientific computing. JavaScript dominates web development (frontend and backend), mobile apps, and real-time applications.\n",
      "\n",
      "5. **Object-Oriented Programming**: Python has strong OOP support with classes and inheritance. JavaScript uses prototype-based inheritance and ES6+ class syntax.\n",
      "\n",
      "6. **Performance**: JavaScript (especially V8 engine) is generally faster for web applications, while Python may be slower but offers extensive libraries for specialized tasks.\n",
      "\n",
      "7. **Libraries and Ecosystem**: Python has rich libraries for data science (NumPy, Pandas, TensorFlow), while JavaScript has extensive web frameworks (React, Angular, Vue) and Node.js packages.\n",
      "\n",
      "8. **Learning Curve**: Python is often considered easier for beginners due to its clean syntax, while JavaScript can be more complex due to its asynchronous nature and browser quirks.\n",
      "\n",
      "Claude's Reasoning: I provided a comprehensive comparison covering the most important technical and practical differences between Python and JavaScript, including syntax, use cases, performance, ecosystems, and learning aspects. These are the key distinctions that developers typically encounter when choosing between or working with these languages.\n"
     ]
    }
   ],
   "source": [
    "# Using the updated get_completion functions with model parameters\n",
    "from get_completion_example import get_completion, get_completion_json, get_completion_string\n",
    "\n",
    "# Example using Claude\n",
    "try:\n",
    "    response = get_completion(\n",
    "        \"What are the key differences between Python and JavaScript?\",\n",
    "        model=\"claude-sonnet-4-20250514\"\n",
    "    )\n",
    "    print(f\"Claude's Answer: {response.answer}\")\n",
    "    print(f\"\\nClaude's Reasoning: {response.reasoning}\")\n",
    "except Exception as e:\n",
    "    print(f\"Note: {e}\")\n",
    "    print(\"Make sure claude-sonnet-4-20250514 is configured in your litellm_config.yaml\")"
   ]
  },
  {
   "cell_type": "code",
   "execution_count": 9,
   "metadata": {},
   "outputs": [
    {
     "name": "stdout",
     "output_type": "stream",
     "text": [
      "Note: name 'get_completion_with_model' is not defined\n",
      "Make sure gemini-2.5-flash-lite is configured in your litellm_config.yaml\n"
     ]
    }
   ],
   "source": [
    "# Example using Gemini\n",
    "try:\n",
    "    response = get_completion_with_model(\n",
    "        \"Explain quantum computing in simple terms\",\n",
    "        model_name=\"gemini-2.5-flash-lite\"\n",
    "    )\n",
    "    print(f\"Gemini's Answer: {response.answer}\")\n",
    "    print(f\"\\\\nGemini's Reasoning: {response.reasoning}\")\n",
    "except Exception as e:\n",
    "    print(f\"Note: {e}\")\n",
    "    print(\"Make sure gemini-2.5-flash-lite is configured in your litellm_config.yaml\")"
   ]
  },
  {
   "cell_type": "code",
   "execution_count": null,
   "metadata": {},
   "outputs": [],
   "source": [
    "# Example using Gemini\n",
    "try:\n",
    "    response = get_completion(\n",
    "        \"Explain quantum computing in simple terms\",\n",
    "        model=\"gemini-2.5-flash-lite\",\n",
    "        temperature=0\n",
    "    )\n",
    "    print(f\"Gemini's Answer: {response.answer}\")\n",
    "    print(f\"\\nGemini's Reasoning: {response.reasoning}\")\n",
    "except Exception as e:\n",
    "    print(f\"Note: {e}\")\n",
    "    print(\"Make sure gemini-2.5-flash-lite is configured in your litellm_config.yaml\")"
   ]
  },
  {
   "cell_type": "code",
   "execution_count": 10,
   "metadata": {},
   "outputs": [
    {
     "name": "stdout",
     "output_type": "stream",
     "text": [
      "Question: What is the meaning of life?\n",
      "\n",
      "======================================================================\n",
      "\n",
      "OpenAI (gpt-4.1-nano-2025-04-14) - temp=0:\n",
      "Answer: The meaning of life is a deeply personal and philosophical question that varies for each individual. Many find purpose through relationships, personal growth, contributing to others, or pursuing passions. Ultimately, it is up to each person to define what gives their life meaning.\n",
      "----------------------------------------------------------------------\n",
      "\n",
      "Anthropic (claude-sonnet-4-20250514) - temp=0:\n",
      "Answer: The meaning of life is a profound philosophical question that has been contemplated throughout human history. There is no single, universally accepted answer, but common perspectives include: finding purpose through relationships and love, personal growth and self-actualization, contributing to something greater than oneself, creating meaning through our choices and actions, spiritual or religious fulfillment, and the pursuit of happiness and well-being. Ultimately, many philosophers suggest that each individual must discover or create their own meaning in life based on their values, experiences, and beliefs.\n",
      "----------------------------------------------------------------------\n",
      "\n",
      "Google (gemini-2.5-flash-lite) - temp=0:\n",
      "Answer: The meaning of life is a deeply personal and philosophical question with no single, universally accepted answer.\n",
      "----------------------------------------------------------------------\n"
     ]
    }
   ],
   "source": [
    "# Compare responses from different models using the updated functions\n",
    "from get_completion_example import get_completion\n",
    "\n",
    "prompt = \"What is the meaning of life?\"\n",
    "\n",
    "models_to_test = [\n",
    "    (\"gpt-4.1-nano-2025-04-14\", \"OpenAI\", 0),\n",
    "    (\"claude-sonnet-4-20250514\", \"Anthropic\", 0),\n",
    "    (\"gemini-2.5-flash-lite\", \"Google\", 0)\n",
    "]\n",
    "\n",
    "print(f\"Question: {prompt}\\n\")\n",
    "print(\"=\" * 70)\n",
    "\n",
    "for model_name, provider, temp in models_to_test:\n",
    "    try:\n",
    "        response = get_completion(prompt, model=model_name, temperature=temp)\n",
    "        print(f\"\\n{provider} ({model_name}) - temp={temp}:\")\n",
    "        print(f\"Answer: {response.answer}\")\n",
    "        print(\"-\" * 70)\n",
    "    except Exception as e:\n",
    "        print(f\"\\n{provider} ({model_name}): Not available\")\n",
    "        print(f\"Error: {e}\")\n",
    "        print(\"-\" * 70)"
   ]
  },
  {
   "cell_type": "markdown",
   "metadata": {},
   "source": [
    "### Testing Different Output Formats with Various Models"
   ]
  },
  {
   "cell_type": "code",
   "execution_count": 12,
   "metadata": {},
   "outputs": [
    {
     "name": "stdout",
     "output_type": "stream",
     "text": [
      "=== Structured Output (Pydantic) ===\n",
      "\n",
      "gpt-4.1-nano-2025-04-14:\n",
      "  Answer: Renewable energy offers numerous benefits, including reducing greenhouse gas emissions, decreasing d...\n",
      "  Reasoning: Renewable energy sources like solar, wind, hydro, and geothermal are sustainable and produce little ...\n",
      "\n",
      "claude-sonnet-4-20250514:\n",
      "  Answer: Renewable energy offers numerous significant benefits: 1) Environmental advantages including reduced...\n",
      "  Reasoning: I provided a comprehensive overview of renewable energy benefits covering the main categories that a...\n",
      "\n",
      "gemini-2.5-flash-lite:\n",
      "  Answer: Renewable energy sources offer significant environmental, economic, and social benefits. Environment...\n",
      "  Reasoning: The summary covers the key advantages of renewable energy across environmental, economic, and social...\n",
      "\n",
      "=== JSON Output Format ===\n",
      "\n",
      "gpt-4.1-nano-2025-04-14:\n",
      "  Answer: Renewable energy offers numerous benefits, including reducing greenhouse gas emissions, decreasing d...\n",
      "  Reasoning: Renewable energy sources like solar, wind, hydro, and geothermal are sustainable and produce little ...\n",
      "\n",
      "claude-sonnet-4-20250514:\n",
      "  Answer: Renewable energy offers numerous significant benefits: 1) Environmental advantages including reduced...\n",
      "  Reasoning: I provided a comprehensive overview of renewable energy benefits covering the main categories that a...\n",
      "\n",
      "gemini-2.5-flash-lite:\n",
      "  Answer: Renewable energy sources offer significant environmental, economic, and social benefits. Environment...\n",
      "  Reasoning: The summary covers the key advantages of renewable energy across environmental, economic, and social...\n",
      "\n",
      "=== String Output Format ===\n",
      "\n",
      "gpt-4.1-nano-2025-04-14:\n",
      "  Renewable energy offers numerous benefits, including reducing greenhouse gas emissions and combating climate change, decreasing dependence on finite f...\n",
      "\n",
      "claude-sonnet-4-20250514:\n",
      "  Here are the key benefits of renewable energy:\n",
      "\n",
      "## Environmental Benefits\n",
      "- **Reduces greenhouse gas emissions** and helps combat climate change\n",
      "- **M...\n",
      "\n",
      "gemini-2.5-flash-lite:\n",
      "  Renewable energy sources offer a wide array of benefits, impacting our environment, economy, and society in profoundly positive ways. Here's a summary...\n"
     ]
    }
   ],
   "source": [
    "# Test different output formats with different models\n",
    "from get_completion_example import get_completion, get_completion_json, get_completion_string\n",
    "\n",
    "test_prompt = \"Summarize the benefits of renewable energy\"\n",
    "\n",
    "# Test Structured Output (Pydantic) with different models\n",
    "print(\"=== Structured Output (Pydantic) ===\")\n",
    "for model in [\"gpt-4.1-nano-2025-04-14\", \"claude-sonnet-4-20250514\", \"gemini-2.5-flash-lite\"]:\n",
    "    try:\n",
    "        structured_response = get_completion(test_prompt, model=model)\n",
    "        print(f\"\\n{model}:\")\n",
    "        print(f\"  Answer: {structured_response.answer[:100]}...\")\n",
    "        print(f\"  Reasoning: {structured_response.reasoning[:100]}...\")\n",
    "    except Exception as e:\n",
    "        continue\n",
    "\n",
    "# Test JSON output with different models\n",
    "print(\"\\n=== JSON Output Format ===\")\n",
    "for model in [\"gpt-4.1-nano-2025-04-14\", \"claude-sonnet-4-20250514\", \"gemini-2.5-flash-lite\"]:\n",
    "    try:\n",
    "        json_response = get_completion_json(test_prompt, model=model)\n",
    "        print(f\"\\n{model}:\")\n",
    "        print(f\"  Answer: {json_response['answer'][:100]}...\")\n",
    "        print(f\"  Reasoning: {json_response['reasoning'][:100]}...\")\n",
    "    except Exception as e:\n",
    "        continue\n",
    "\n",
    "# Test string output with different models  \n",
    "print(\"\\n=== String Output Format ===\")\n",
    "for model in [\"gpt-4.1-nano-2025-04-14\", \"claude-sonnet-4-20250514\", \"gemini-2.5-flash-lite\"]:\n",
    "    try:\n",
    "        string_response = get_completion_string(test_prompt, model=model, temperature=0.3)\n",
    "        print(f\"\\n{model}:\")\n",
    "        print(f\"  {string_response[:150]}...\")\n",
    "    except Exception as e:\n",
    "        continue"
   ]
  }
 ],
 "metadata": {
  "kernelspec": {
   "display_name": "base",
   "language": "python",
   "name": "python3"
  },
  "language_info": {
   "codemirror_mode": {
    "name": "ipython",
    "version": 3
   },
   "file_extension": ".py",
   "mimetype": "text/x-python",
   "name": "python",
   "nbconvert_exporter": "python",
   "pygments_lexer": "ipython3",
   "version": "3.11.5"
  }
 },
 "nbformat": 4,
 "nbformat_minor": 4
}
